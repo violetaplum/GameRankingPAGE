{
 "cells": [
  {
   "cell_type": "code",
   "execution_count": 32,
   "metadata": {},
   "outputs": [],
   "source": [
    "from selenium import webdriver\n",
    "from bs4 import BeautifulSoup\n",
    "import os\n",
    "import webbrowser\n",
    "import cx_Oracle\n",
    "conn=cx_Oracle.connect('hr/hr@localhost:1521/xe')\n",
    "db = conn.cursor()\n",
    "driver=webdriver.Chrome('C:\\\\Users\\\\mjkim\\\\PythonCode\\\\chromedriver')\n"
   ]
  },
  {
   "cell_type": "code",
   "execution_count": 34,
   "metadata": {},
   "outputs": [],
   "source": [
    "driver.get('http://www.gevolution.co.kr/rank/ios.asp');\n",
    "\n",
    "top_app_details = driver.find_elements_by_class_name('rank1')"
   ]
  },
  {
   "cell_type": "code",
   "execution_count": 35,
   "metadata": {},
   "outputs": [],
   "source": [
    "f=open(\"free_a.txt\",'wt',encoding='UTF8')\n",
    "f2=open(\"charged_a.txt\",'wt',encoding='UTF8')\n",
    "f3=open(\"bestseller_a.txt\",'wt',encoding='UTF8')\n",
    "db.execute('create table free_a(name varchar2(300))')\n",
    "db.execute('create table charged_a(name varchar2(300))')\n",
    "db.execute('create table bestseller_a(name varchar2(300))')"
   ]
  },
  {
   "cell_type": "code",
   "execution_count": 36,
   "metadata": {},
   "outputs": [],
   "source": [
    "list1=list()\n",
    "first_list=list()\n",
    "second_list=list()\n",
    "third_list=list()\n",
    "\n",
    "for app in top_app_details:\n",
    "    list1.append(app.text+'\\n')\n",
    "    \n"
   ]
  },
  {
   "cell_type": "code",
   "execution_count": 37,
   "metadata": {},
   "outputs": [],
   "source": [
    "sql_insert1 = 'insert into free_a VALUES(:name)'\n",
    "sql_insert2 = 'insert into charged_a VALUES(:name)'\n",
    "sql_insert3 = 'insert into bestseller_a VALUES(:name)'\n",
    "for e in range(150):\n",
    "    if e%3==0:\n",
    "        f.write(list1[e])\n",
    "        db.execute(sql_insert1, name=list1[e])\n",
    "        conn.commit()\n",
    "    elif e%3==1:\n",
    "        f2.write(list1[e])\n",
    "        db.execute(sql_insert2, name=list1[e])\n",
    "        conn.commit()\n",
    "    elif e%3==2:\n",
    "        f3.write(list1[e])\n",
    "        db.execute(sql_insert3, name=list1[e])\n",
    "        conn.commit()\n",
    "\n",
    "\n",
    "    \n",
    "f.close()\n",
    "f2.close()\n",
    "f3.close()"
   ]
  }
 ],
 "metadata": {
  "kernelspec": {
   "display_name": "Python 3",
   "language": "python",
   "name": "python3"
  },
  "language_info": {
   "codemirror_mode": {
    "name": "ipython",
    "version": 3
   },
   "file_extension": ".py",
   "mimetype": "text/x-python",
   "name": "python",
   "nbconvert_exporter": "python",
   "pygments_lexer": "ipython3",
   "version": "3.7.3"
  }
 },
 "nbformat": 4,
 "nbformat_minor": 2
}
