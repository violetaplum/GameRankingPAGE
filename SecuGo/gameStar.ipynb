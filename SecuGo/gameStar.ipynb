{
 "cells": [
  {
   "cell_type": "code",
   "execution_count": 1,
   "metadata": {},
   "outputs": [],
   "source": [
    "import os\n",
    "from bs4 import BeautifulSoup\n",
    "import sys\n",
    "from selenium import webdriver\n",
    "import webbrowser\n",
    "import urllib\n",
    "import re\n",
    "from urllib.request import urlopen"
   ]
  },
  {
   "cell_type": "code",
   "execution_count": 2,
   "metadata": {},
   "outputs": [],
   "source": [
    "driver = webdriver.Chrome('C:\\\\Users\\\\mjkim\\\\PythonCode\\\\chromedriver')\n",
    "driver.implicitly_wait(3)"
   ]
  },
  {
   "cell_type": "code",
   "execution_count": 3,
   "metadata": {},
   "outputs": [],
   "source": [
    "url='https://play.google.com/store/apps/collection/cluster?clp=ChwKGgoUdG9wc2VsbGluZ19mcmVlX0dBTUUQBxgD:S:ANO1ljJH_B0&gsr=Ch4KHAoaChR0b3BzZWxsaW5nX2ZyZWVfR0FNRRAHGAM%3D:S:ANO1ljLEXvI'\n",
    "url2='https://play.google.com/store/apps/collection/cluster?clp=ChwKGgoUdG9wc2VsbGluZ19wYWlkX0dBTUUQBxgD:S:ANO1ljI3NIA&gsr=Ch4KHAoaChR0b3BzZWxsaW5nX3BhaWRfR0FNRRAHGAM%3D:S:ANO1ljKgPH8'\n",
    "url3='https://play.google.com/store/apps/collection/cluster?clp=ChgKFgoQdG9wZ3Jvc3NpbmdfR0FNRRAHGAM%3D:S:ANO1ljKVCGg&gsr=ChoKGAoWChB0b3Bncm9zc2luZ19HQU1FEAcYAw%3D%3D:S:ANO1ljI_yc8'"
   ]
  },
  {
   "cell_type": "code",
   "execution_count": 4,
   "metadata": {},
   "outputs": [],
   "source": [
    "driver.get(url)\n",
    "soup=BeautifulSoup(driver.page_source,'lxml')\n",
    "star = soup.select('.pf5lIe')\n",
    "starstr=list()\n",
    "starstr2=list()\n",
    "starstr3=list()\n",
    "\n",
    "for e in star:\n",
    "    starstr.append(str(e))\n",
    "\n",
    "for e in starstr:\n",
    "    starstr2.append(e.replace('<div class=\"pf5lIe\"><div aria-label=\"별표 5개 만점에 ',''))\n",
    "\n",
    "for e in starstr2:\n",
    "    starstr3.append(e[:3])\n",
    "\n",
    "f=open('free_star.txt',mode='wt',encoding='utf-8')\n",
    "\n",
    "for e in starstr3:\n",
    "    f.write(e+'\\n')\n",
    "\n",
    "f.close()"
   ]
  },
  {
   "cell_type": "code",
   "execution_count": 5,
   "metadata": {},
   "outputs": [],
   "source": [
    "driver.get(url2)\n",
    "soup=BeautifulSoup(driver.page_source,'lxml')\n",
    "star = soup.select('.pf5lIe')\n",
    "starstr=list()\n",
    "starstr2=list()\n",
    "starstr3=list()\n",
    "\n",
    "\n",
    "for e in star:\n",
    "    starstr.append(str(e))\n",
    "\n",
    "for e in starstr:\n",
    "    starstr2.append(e.replace('<div class=\"pf5lIe\"><div aria-label=\"별표 5개 만점에 ',''))\n",
    "\n",
    "for e in starstr2:\n",
    "    starstr3.append(e[:3])\n",
    "\n",
    "f=open('charged_star.txt',mode='wt',encoding='utf-8')\n",
    "\n",
    "for e in starstr3:\n",
    "    f.write(e+'\\n')\n",
    "\n",
    "f.close()"
   ]
  },
  {
   "cell_type": "code",
   "execution_count": 6,
   "metadata": {},
   "outputs": [],
   "source": [
    "driver.get(url3)\n",
    "soup=BeautifulSoup(driver.page_source,'lxml')\n",
    "star = soup.select('.pf5lIe')\n",
    "starstr=list()\n",
    "starstr2=list()\n",
    "starstr3=list()\n",
    "\n",
    "\n",
    "for e in star:\n",
    "    starstr.append(str(e))\n",
    "\n",
    "for e in starstr:\n",
    "    starstr2.append(e.replace('<div class=\"pf5lIe\"><div aria-label=\"별표 5개 만점에 ',''))\n",
    "\n",
    "for e in starstr2:\n",
    "    starstr3.append(e[:3])\n",
    "\n",
    "f=open('bestseller_star.txt',mode='wt',encoding='utf-8')\n",
    "\n",
    "for e in starstr3:\n",
    "    f.write(e+'\\n')\n",
    "\n",
    "f.close()"
   ]
  }
 ],
 "metadata": {
  "kernelspec": {
   "display_name": "Python 3",
   "language": "python",
   "name": "python3"
  },
  "language_info": {
   "codemirror_mode": {
    "name": "ipython",
    "version": 3
   },
   "file_extension": ".py",
   "mimetype": "text/x-python",
   "name": "python",
   "nbconvert_exporter": "python",
   "pygments_lexer": "ipython3",
   "version": "3.7.3"
  }
 },
 "nbformat": 4,
 "nbformat_minor": 2
}
