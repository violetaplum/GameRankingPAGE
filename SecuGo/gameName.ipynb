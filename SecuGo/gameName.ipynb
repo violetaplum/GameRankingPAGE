{
 "cells": [
  {
   "cell_type": "code",
   "execution_count": 1,
   "metadata": {
    "scrolled": true
   },
   "outputs": [],
   "source": [
    "from selenium import webdriver\n",
    "from bs4 import BeautifulSoup\n",
    "import os\n",
    "import webbrowser\n",
    "import cx_Oracle\n",
    "conn=cx_Oracle.connect('hr/hr@localhost:1521/xe')\n",
    "db = conn.cursor()\n",
    "\n",
    "driver=webdriver.Chrome('C:\\\\Users\\\\mjkim\\\\PythonCode\\\\python\\\\chromedriver')\n"
   ]
  },
  {
   "cell_type": "code",
   "execution_count": 8,
   "metadata": {},
   "outputs": [],
   "source": [
    "db.execute('DROP TABLE free')\n",
    "db.execute('DROP TABLE charged')\n",
    "db.execute('DROP TABLE bestseller')\n",
    "\n"
   ]
  },
  {
   "cell_type": "code",
   "execution_count": 9,
   "metadata": {},
   "outputs": [],
   "source": [
    "driver.get('https://play.google.com/store/apps/collection/cluster?clp=ChwKGgoUdG9wc2VsbGluZ19mcmVlX0dBTUUQBxgD:S:ANO1ljJH_B0&gsr=Ch4KHAoaChR0b3BzZWxsaW5nX2ZyZWVfR0FNRRAHGAM%3D:S:ANO1ljLEXvI');\n",
    "sql_insert = 'insert into free VALUES(:name)'\n",
    "top_app_details = driver.find_elements_by_class_name('Q9MA7b')\n",
    "db.execute('create table free(name varchar2(300))')\n",
    "f=open(\"free.txt\",'wt',encoding='UTF8')\n",
    "\n",
    "for app in top_app_details:\n",
    "    f.write(app.text+'\\n')\n",
    "    db.execute(sql_insert, name=app.text)\n",
    "    conn.commit()\n",
    "\n",
    "    \n",
    "f.close()\n"
   ]
  },
  {
   "cell_type": "code",
   "execution_count": 10,
   "metadata": {},
   "outputs": [
    {
     "name": "stdout",
     "output_type": "stream",
     "text": [
      "('Minecraft',)\n",
      "('Football Manager 2019 Mobile',)\n",
      "('아이언 마린 (Iron Marines)',)\n",
      "('Human: Fall Flat',)\n",
      "('에버테일',)\n",
      "('A Dance Of Fire and Ice',)\n",
      "('던전메이커',)\n",
      "('레이튼 교수와 악마의 상자 모바일 HD 리마스터',)\n",
      "('Geometry Dash',)\n",
      "('던전공주',)\n",
      "('Muse Dash',)\n",
      "('Age of Civilizations II',)\n",
      "('Pirates Outlaws',)\n",
      "('미니 메트로',)\n",
      "('서울 2033 : 후원자',)\n",
      "('도박 디펜스',)\n",
      "('카툰 크래프트',)\n",
      "('언노운 나이츠',)\n",
      "('마이 차일드 \"레벤스보른\"',)\n",
      "('Terraria.',)\n",
      "('Cytus II (사이터스Ⅱ)',)\n",
      "('트릭아트 던전',)\n",
      "('기적의 분식집 Complete',)\n",
      "('Poly Bridge',)\n",
      "('룸즈: 장난감 장인의 저택',)\n",
      "('킹덤 러쉬 벤전스 (Kingdom Rush Vengeance)',)\n",
      "('영화공방 스토리',)\n",
      "('팔라독(Paladog)',)\n",
      "('삼국지:한말패업',)\n",
      "('레이튼 교수와 이상한 마을 HD',)\n",
      "('Kingdom Rush Frontiers',)\n",
      "('60 Seconds! Atomic Adventure',)\n",
      "('무한의 고속도로',)\n",
      "('Bloons TD 6',)\n",
      "('Monument Valley',)\n",
      "('Incredibox',)\n",
      "('당신을 기다리는 여우 花',)\n",
      "('Sand! Premium',)\n",
      "('Splendor',)\n",
      "('First Strike: Final Hour',)\n",
      "('Peace, Death!',)\n",
      "('게임개발 스토리',)\n",
      "('NBA 2K19',)\n",
      "('Reigns',)\n",
      "('프롬어스 : 새로운 시작',)\n",
      "(\"Don't Starve: Pocket Edition\",)\n",
      "('Empire Warriors TD Premium: 프리미엄 타워 디펜스 게임 RPG',)\n",
      "('Football Manager 2019 Touch',)\n",
      "('Kingdom Rush Origins',)\n",
      "('RollerCoaster Tycoon® Classic',)\n"
     ]
    }
   ],
   "source": [
    "driver.get('https://play.google.com/store/apps/collection/cluster?clp=ChwKGgoUdG9wc2VsbGluZ19wYWlkX0dBTUUQBxgD:S:ANO1ljI3NIA&gsr=Ch4KHAoaChR0b3BzZWxsaW5nX3BhaWRfR0FNRRAHGAM%3D:S:ANO1ljKgPH8');\n",
    "sql_insert = 'insert into charged VALUES(:name)'\n",
    "top_app_details = driver.find_elements_by_class_name('Q9MA7b')\n",
    "f=open(\"charged.txt\",'wt',encoding='UTF8')\n",
    "db.execute('create table charged(name varchar2(300))')\n",
    "for app in top_app_details:\n",
    "    f.write(app.text+'\\n')\n",
    "    db.execute(sql_insert, name=app.text)\n",
    "    conn.commit()\n",
    "db.execute('SELECT * FROM charged')\n",
    "for record in db:\n",
    "    print(record)\n",
    "f.close()"
   ]
  },
  {
   "cell_type": "code",
   "execution_count": 11,
   "metadata": {},
   "outputs": [
    {
     "name": "stdout",
     "output_type": "stream",
     "text": [
      "('리니지M',)\n",
      "('로한M',)\n",
      "('랑그릿사',)\n",
      "('리니지2 레볼루션',)\n",
      "('블레이드&소울 레볼루션',)\n",
      "('브롤스타즈',)\n",
      "('검은사막 모바일',)\n",
      "('일곱 개의 대죄: GRAND CROSS',)\n",
      "('피망 포커: 카지노 로얄 (7포커, 로우바둑이, 하이로우)',)\n",
      "('FIFA ONLINE 4 M by EA SPORTS™',)\n",
      "('킹 오브 파이터 올스타',)\n",
      "('소녀전선',)\n",
      "('뮤오리진2',)\n",
      "('궁수의 전설',)\n",
      "('트라하',)\n",
      "('윈조이 포커 - 블랙잭, 바카라,7포커, 로우바둑이, 뉴포커',)\n",
      "('아르카',)\n",
      "('세븐나이츠',)\n",
      "('왕이되는자 - 독창적인 고품격 벼슬길 승진 SRPG, 모바일 게임의 선구자',)\n",
      "('리니지M(12)',)\n",
      "('한게임 포커',)\n",
      "('붕괴3rd',)\n",
      "('모두의마블',)\n",
      "('MARVEL 퓨처파이트',)\n",
      "('마피아 시티',)\n",
      "('클래시 로얄',)\n",
      "('블리치 Mobile 3D',)\n",
      "('레전드 오브 블루문-Legend of Bluemoon',)\n",
      "('프린세스 커넥트! Re:Dive',)\n",
      "('서머너즈 워: 천공의 아레나',)\n",
      "('BTS WORLD',)\n",
      "('Guns of Glory: 왕을 위한 장대한 군대 구축',)\n",
      "('탈리온',)\n",
      "('황제라 칭하라',)\n",
      "('로드 모바일: 제국의 전쟁 - MMORPG',)\n",
      "('Black Angel',)\n",
      "('컴투스프로야구2019',)\n",
      "('강림 : 망령인도자',)\n",
      "('꿈의 집 (Homescapes)',)\n",
      "('애니팡3',)\n",
      "('신명',)\n",
      "('메이플스토리M',)\n",
      "('검은강호',)\n",
      "('클래시 오브 클랜',)\n",
      "('배틀그라운드',)\n",
      "('파천: 신이 되는 자',)\n",
      "('라스트 쉘터 (Last Shelter: Survival)',)\n",
      "('Idle Heroes - 아이들 히어로즈',)\n",
      "('Empires & Puzzles: RPG Quest',)\n",
      "('MLB 9이닝스 19',)\n"
     ]
    }
   ],
   "source": [
    "driver.get('https://play.google.com/store/apps/collection/cluster?clp=ChgKFgoQdG9wZ3Jvc3NpbmdfR0FNRRAHGAM%3D:S:ANO1ljKVCGg&gsr=ChoKGAoWChB0b3Bncm9zc2luZ19HQU1FEAcYAw%3D%3D:S:ANO1ljI_yc8');\n",
    "sql_insert = 'insert into bestseller VALUES(:name)'\n",
    "top_app_details = driver.find_elements_by_class_name('Q9MA7b')\n",
    "f=open(\"bestseller.txt\",'wt',encoding='UTF8')\n",
    "db.execute('create table bestseller(name varchar2(300))')\n",
    "\n",
    "for app in top_app_details:\n",
    "    f.write(app.text+'\\n')\n",
    "    db.execute(sql_insert, name=app.text)\n",
    "    conn.commit()\n",
    "db.execute('SELECT * FROM bestseller')\n",
    "for record in db:\n",
    "    print(record)\n",
    "f.close()"
   ]
  },
  {
   "cell_type": "code",
   "execution_count": 12,
   "metadata": {},
   "outputs": [],
   "source": [
    "db.close()\n",
    "conn.close()"
   ]
  }
 ],
 "metadata": {
  "kernelspec": {
   "display_name": "Python 3",
   "language": "python",
   "name": "python3"
  },
  "language_info": {
   "codemirror_mode": {
    "name": "ipython",
    "version": 3
   },
   "file_extension": ".py",
   "mimetype": "text/x-python",
   "name": "python",
   "nbconvert_exporter": "python",
   "pygments_lexer": "ipython3",
   "version": "3.7.3"
  }
 },
 "nbformat": 4,
 "nbformat_minor": 2
}
